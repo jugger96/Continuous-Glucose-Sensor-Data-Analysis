{
 "cells": [
  {
   "attachments": {},
   "cell_type": "markdown",
   "metadata": {},
   "source": [
    "#### Excercise in the course: Introduction to Biomedical Engineering (2022-2023)"
   ]
  },
  {
   "attachments": {},
   "cell_type": "markdown",
   "metadata": {},
   "source": [
    "Ηλιόπουλος Ανδρέας"
   ]
  },
  {
   "cell_type": "code",
   "execution_count": 22,
   "metadata": {},
   "outputs": [],
   "source": [
    "import pandas as pd\n",
    "import numpy as np\n",
    "\n",
    "# Load the Excel file into a pandas DataFrame object\n",
    "df = pd.read_excel('data.xlsm')\n",
    "\n",
    "# Save the DataFrame as a CSV file\n",
    "df.to_csv('data.csv', index=False)"
   ]
  },
  {
   "cell_type": "code",
   "execution_count": 23,
   "metadata": {},
   "outputs": [],
   "source": [
    "#Rename for ease of use\n",
    "df = pd.read_csv('data.csv')\n",
    "\n",
    "Blood_Glucose = df['Blood Glucose (mg/dl)']\n",
    "BG = Blood_Glucose\n",
    "\n",
    "Sensor = df['Sensor Glucose Readings(mg/dl)']\n",
    "\n",
    "Time = df['Time (min)']"
   ]
  },
  {
   "attachments": {},
   "cell_type": "markdown",
   "metadata": {},
   "source": [
    " Total ***Mean absolute relative difference value*** and ***Correlation Coefficient***"
   ]
  },
  {
   "cell_type": "code",
   "execution_count": 24,
   "metadata": {},
   "outputs": [
    {
     "name": "stdout",
     "output_type": "stream",
     "text": [
      "Mean Absolute Relative Difference (MARD): 8.922528595463833 %\n",
      "Correlation Coefficient (CC): 0.9341203333312379\n"
     ]
    }
   ],
   "source": [
    "mard = (100*(abs(Sensor - Blood_Glucose) / Blood_Glucose).mean())\n",
    "cc = np.corrcoef(Sensor, Blood_Glucose)[0,1]\n",
    "\n",
    "print(f'Mean Absolute Relative Difference (MARD): {mard} %')\n",
    "print(f'Correlation Coefficient (CC): {cc}')"
   ]
  },
  {
   "attachments": {},
   "cell_type": "markdown",
   "metadata": {},
   "source": [
    "### 1. ***Analysis of Continuous Glucose Recording Sensor Data***\n",
    "\n",
    "The following code calculates the Mean Absolute Relative Difference -***MARD*** and Correlation Coefficient-***CC*** of a continuous glucose recording sensor. \n",
    "\n",
    "The sensor and blood glucose readings are separated into three categories: hypoglycemia, euglycemia, and hyperglycemia. MARD and CC are calculated for each category and compared to the blood glucose values. \n",
    "\n",
    "The resulting MARD and CC values are indicators of the accuracy of the sensor glucose readings.\n",
    "\n",
    "Generally, a ***MARD of less than 15%*** is considered good accuracy, as is the case with ***CC with value closer to 1***."
   ]
  },
  {
   "cell_type": "code",
   "execution_count": 25,
   "metadata": {},
   "outputs": [
    {
     "name": "stdout",
     "output_type": "stream",
     "text": [
      "MARD for hypoglycemia: 11.13%\n",
      "MARD for euglycemia: 8.62%\n",
      "MARD for hyperglycemia: 9.25%\n",
      "CC for hypoglycemia: 0.29\n",
      "CC for euglycemia: 0.88\n",
      "CC for hyperglycemia: 0.54\n"
     ]
    }
   ],
   "source": [
    "# Define glucose categories\n",
    "hypoglycemia = df[BG < 70]\n",
    "euglycemia = df[(BG >= 70) & (BG <= 180)]\n",
    "hyperglycemia = df[BG > 180]\n",
    "\n",
    "# Calculate MARD for each category\n",
    "mard_hypo = np.mean(np.abs((Sensor[hypoglycemia.index] - BG[hypoglycemia.index]) / BG[hypoglycemia.index])) * 100\n",
    "mard_eugly = np.mean(np.abs((Sensor[euglycemia.index] - BG[euglycemia.index]) / BG[euglycemia.index])) * 100\n",
    "mard_hyper = np.mean(np.abs((Sensor[hyperglycemia.index] - BG[hyperglycemia.index]) / BG[hyperglycemia.index])) * 100\n",
    "\n",
    "# Calculate CC for each category\n",
    "cc_hypo = np.corrcoef(Sensor[hypoglycemia.index], BG[hypoglycemia.index])[0, 1]\n",
    "cc_eugly = np.corrcoef(Sensor[euglycemia.index], BG[euglycemia.index])[0, 1]\n",
    "cc_hyper = np.corrcoef(Sensor[hyperglycemia.index], BG[hyperglycemia.index])[0, 1]\n",
    "\n",
    "print('MARD for hypoglycemia: {:.2f}%'.format(mard_hypo))\n",
    "print('MARD for euglycemia: {:.2f}%'.format(mard_eugly))\n",
    "print('MARD for hyperglycemia: {:.2f}%'.format(mard_hyper))\n",
    "print('CC for hypoglycemia: {:.2f}'.format(cc_hypo))\n",
    "print('CC for euglycemia: {:.2f}'.format(cc_eugly))\n",
    "print('CC for hyperglycemia: {:.2f}'.format(cc_hyper))\n"
   ]
  },
  {
   "attachments": {},
   "cell_type": "markdown",
   "metadata": {},
   "source": [
    "### 2. ***Hypoglycemia: ROC Analysis*** "
   ]
  },
  {
   "cell_type": "code",
   "execution_count": 26,
   "metadata": {},
   "outputs": [
    {
     "name": "stdout",
     "output_type": "stream",
     "text": [
      "True Positive (TP): 335\n",
      "True Negative (TN): 4524\n",
      "False Positive (FP): 81\n",
      "False Negative (FN): 100\n",
      "\n",
      "ROC Analysis for Hypoglycemia:\n",
      "Sensitivity: 77.01%\n",
      "Specificity: 98.24%\n",
      "Positive Predictive Value: 80.53%\n",
      "Negative Predictive Value: 97.84%\n",
      "Precision: 80.53%\n"
     ]
    }
   ],
   "source": [
    "# Count true positive, true negative, false positive, and false negative rates\n",
    "tp = len(df[(BG < 70) & (Sensor < 70)])\n",
    "tn = len(df[(BG >= 70) & (Sensor >= 70)])\n",
    "fp = len(df[(BG >= 70) & (Sensor < 70)])\n",
    "fn = len(df[(BG < 70) & (Sensor >= 70)])\n",
    "\n",
    "# Calculate sensitivity, specificity, positive predictive value, negative predictive value, and precision\n",
    "sensitivity = tp / (tp + fn)\n",
    "specificity = tn / (tn + fp)\n",
    "ppv = tp / (tp + fp)\n",
    "npv = tn / (tn + fn)\n",
    "precision = tp / (tp + fp)\n",
    "\n",
    "print('True Positive (TP):', tp)\n",
    "print('True Negative (TN):', tn)\n",
    "print('False Positive (FP):', fp)\n",
    "print('False Negative (FN):', fn)\n",
    "\n",
    "print('\\nROC Analysis for Hypoglycemia:')\n",
    "print('Sensitivity: {:.2f}%'.format(sensitivity * 100))\n",
    "print('Specificity: {:.2f}%'.format(specificity * 100))\n",
    "print('Positive Predictive Value: {:.2f}%'.format(ppv * 100))\n",
    "print('Negative Predictive Value: {:.2f}%'.format(npv * 100))\n",
    "print('Precision: {:.2f}%'.format(precision * 100))"
   ]
  },
  {
   "attachments": {},
   "cell_type": "markdown",
   "metadata": {},
   "source": [
    "### 3. ***Hyperglycemia: ROC Analysis*** "
   ]
  },
  {
   "cell_type": "code",
   "execution_count": 27,
   "metadata": {},
   "outputs": [
    {
     "name": "stdout",
     "output_type": "stream",
     "text": [
      "True Positive (TP): 524\n",
      "True Negative (TN): 4275\n",
      "False Positive (FP): 96\n",
      "False Negative (FN): 145\n",
      "\n",
      "ROC Analysis for Hyperglycemia:\n",
      "Sensitivity: 78.33%\n",
      "Specificity: 97.80%\n",
      "Positive Predictive Value: 84.52%\n",
      "Negative Predictive Value: 96.72%\n",
      "Precision: 84.52%\n"
     ]
    }
   ],
   "source": [
    "# Count true positive, true negative, false positive, and false negative rates\n",
    "tp = len(df[(BG >= 180) & (Sensor >= 180)])\n",
    "tn = len(df[(BG < 180) & (Sensor < 180)])\n",
    "fp = len(df[(BG < 180) & (Sensor >= 180)])\n",
    "fn = len(df[(BG >= 180) & (Sensor < 180)])\n",
    "\n",
    "# Calculate sensitivity, specificity, positive predictive value, negative predictive value, and precision\n",
    "sensitivity = tp / (tp + fn)\n",
    "specificity = tn / (tn + fp)\n",
    "ppv = tp / (tp + fp)\n",
    "npv = tn / (tn + fn)\n",
    "precision = tp / (tp + fp)\n",
    "\n",
    "print('True Positive (TP):', tp)\n",
    "print('True Negative (TN):', tn)\n",
    "print('False Positive (FP):', fp)\n",
    "print('False Negative (FN):', fn)\n",
    "\n",
    "print('\\nROC Analysis for Hyperglycemia:')\n",
    "print('Sensitivity: {:.2f}%'.format(sensitivity * 100))\n",
    "print('Specificity: {:.2f}%'.format(specificity * 100))\n",
    "print('Positive Predictive Value: {:.2f}%'.format(ppv * 100))\n",
    "print('Negative Predictive Value: {:.2f}%'.format(npv * 100))\n",
    "print('Precision: {:.2f}%'.format(precision * 100))"
   ]
  }
 ],
 "metadata": {
  "kernelspec": {
   "display_name": "Python 3",
   "language": "python",
   "name": "python3"
  },
  "language_info": {
   "codemirror_mode": {
    "name": "ipython",
    "version": 3
   },
   "file_extension": ".py",
   "mimetype": "text/x-python",
   "name": "python",
   "nbconvert_exporter": "python",
   "pygments_lexer": "ipython3",
   "version": "3.9.13"
  }
 },
 "nbformat": 4,
 "nbformat_minor": 4
}
